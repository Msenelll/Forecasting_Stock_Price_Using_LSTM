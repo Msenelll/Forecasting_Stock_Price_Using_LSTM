{
  "cells": [
    {
      "cell_type": "code",
      "execution_count": null,
      "metadata": {
        "id": "yUajF0zx2Noq"
      },
      "outputs": [],
      "source": [
        "# dataset @ https://finance.yahoo.com/quote/MSFT/history/\n",
        "\n",
        "# If you want the exact same dataset as the YouTube video,\n",
        "# use this link: https://drive.google.com/file/d/1WLm1AEYgU28Nk4lY4zNkGPSctdImbhJI/view?usp=sharing"
      ]
    },
    {
      "cell_type": "code",
      "execution_count": 30,
      "metadata": {},
      "outputs": [],
      "source": [
        "import pandas as pd\n",
        "import numpy as np\n",
        "import yfinance as yf\n",
        "import matplotlib.pyplot as plt\n",
        "from tensorflow.keras.models import Sequential\n",
        "from tensorflow.keras.optimizers import Adam\n",
        "from tensorflow.keras import layers\n",
        "from copy import deepcopy\n",
        "import datetime"
      ]
    },
    {
      "cell_type": "code",
      "execution_count": 17,
      "metadata": {},
      "outputs": [
        {
          "name": "stdout",
          "output_type": "stream",
          "text": [
            "[*********************100%***********************]  1 of 1 completed\n"
          ]
        }
      ],
      "source": [
        "# Get the data for the stock MSFT from yfinance\n",
        "data = yf.download('MSFT', start='1986-01-01', end='2023-12-17')\n",
        "# Save the data to a CSV file\n",
        "data.to_csv('MSFT.csv')"
      ]
    },
    {
      "cell_type": "code",
      "execution_count": 18,
      "metadata": {
        "colab": {
          "base_uri": "https://localhost:8080/",
          "height": 424
        },
        "id": "PSIHfWL23fBi",
        "outputId": "548a8b03-225f-4833-f543-c8956ec27c19"
      },
      "outputs": [
        {
          "data": {
            "text/html": [
              "<div>\n",
              "<style scoped>\n",
              "    .dataframe tbody tr th:only-of-type {\n",
              "        vertical-align: middle;\n",
              "    }\n",
              "\n",
              "    .dataframe tbody tr th {\n",
              "        vertical-align: top;\n",
              "    }\n",
              "\n",
              "    .dataframe thead th {\n",
              "        text-align: right;\n",
              "    }\n",
              "</style>\n",
              "<table border=\"1\" class=\"dataframe\">\n",
              "  <thead>\n",
              "    <tr style=\"text-align: right;\">\n",
              "      <th></th>\n",
              "      <th>Date</th>\n",
              "      <th>Open</th>\n",
              "      <th>High</th>\n",
              "      <th>Low</th>\n",
              "      <th>Close</th>\n",
              "      <th>Adj Close</th>\n",
              "      <th>Volume</th>\n",
              "    </tr>\n",
              "  </thead>\n",
              "  <tbody>\n",
              "    <tr>\n",
              "      <th>0</th>\n",
              "      <td>1986-03-13</td>\n",
              "      <td>0.088542</td>\n",
              "      <td>0.101563</td>\n",
              "      <td>0.088542</td>\n",
              "      <td>0.097222</td>\n",
              "      <td>0.060657</td>\n",
              "      <td>1031788800</td>\n",
              "    </tr>\n",
              "    <tr>\n",
              "      <th>1</th>\n",
              "      <td>1986-03-14</td>\n",
              "      <td>0.097222</td>\n",
              "      <td>0.102431</td>\n",
              "      <td>0.097222</td>\n",
              "      <td>0.100694</td>\n",
              "      <td>0.062823</td>\n",
              "      <td>308160000</td>\n",
              "    </tr>\n",
              "    <tr>\n",
              "      <th>2</th>\n",
              "      <td>1986-03-17</td>\n",
              "      <td>0.100694</td>\n",
              "      <td>0.103299</td>\n",
              "      <td>0.100694</td>\n",
              "      <td>0.102431</td>\n",
              "      <td>0.063907</td>\n",
              "      <td>133171200</td>\n",
              "    </tr>\n",
              "    <tr>\n",
              "      <th>3</th>\n",
              "      <td>1986-03-18</td>\n",
              "      <td>0.102431</td>\n",
              "      <td>0.103299</td>\n",
              "      <td>0.098958</td>\n",
              "      <td>0.099826</td>\n",
              "      <td>0.062281</td>\n",
              "      <td>67766400</td>\n",
              "    </tr>\n",
              "    <tr>\n",
              "      <th>4</th>\n",
              "      <td>1986-03-19</td>\n",
              "      <td>0.099826</td>\n",
              "      <td>0.100694</td>\n",
              "      <td>0.097222</td>\n",
              "      <td>0.098090</td>\n",
              "      <td>0.061198</td>\n",
              "      <td>47894400</td>\n",
              "    </tr>\n",
              "    <tr>\n",
              "      <th>...</th>\n",
              "      <td>...</td>\n",
              "      <td>...</td>\n",
              "      <td>...</td>\n",
              "      <td>...</td>\n",
              "      <td>...</td>\n",
              "      <td>...</td>\n",
              "      <td>...</td>\n",
              "    </tr>\n",
              "    <tr>\n",
              "      <th>9340</th>\n",
              "      <td>2023-04-04</td>\n",
              "      <td>287.230011</td>\n",
              "      <td>290.450012</td>\n",
              "      <td>285.670013</td>\n",
              "      <td>287.179993</td>\n",
              "      <td>287.179993</td>\n",
              "      <td>25824300</td>\n",
              "    </tr>\n",
              "    <tr>\n",
              "      <th>9341</th>\n",
              "      <td>2023-04-05</td>\n",
              "      <td>285.850006</td>\n",
              "      <td>287.149994</td>\n",
              "      <td>282.920013</td>\n",
              "      <td>284.339996</td>\n",
              "      <td>284.339996</td>\n",
              "      <td>22064800</td>\n",
              "    </tr>\n",
              "    <tr>\n",
              "      <th>9342</th>\n",
              "      <td>2023-04-06</td>\n",
              "      <td>283.209991</td>\n",
              "      <td>292.079987</td>\n",
              "      <td>282.029999</td>\n",
              "      <td>291.600006</td>\n",
              "      <td>291.600006</td>\n",
              "      <td>29770300</td>\n",
              "    </tr>\n",
              "    <tr>\n",
              "      <th>9343</th>\n",
              "      <td>2023-04-10</td>\n",
              "      <td>289.209991</td>\n",
              "      <td>289.600006</td>\n",
              "      <td>284.709991</td>\n",
              "      <td>289.390015</td>\n",
              "      <td>289.390015</td>\n",
              "      <td>23079400</td>\n",
              "    </tr>\n",
              "    <tr>\n",
              "      <th>9344</th>\n",
              "      <td>2023-04-11</td>\n",
              "      <td>285.750000</td>\n",
              "      <td>285.869995</td>\n",
              "      <td>282.940002</td>\n",
              "      <td>284.000000</td>\n",
              "      <td>284.000000</td>\n",
              "      <td>6456368</td>\n",
              "    </tr>\n",
              "  </tbody>\n",
              "</table>\n",
              "<p>9345 rows × 7 columns</p>\n",
              "</div>"
            ],
            "text/plain": [
              "            Date        Open        High         Low       Close   Adj Close  \\\n",
              "0     1986-03-13    0.088542    0.101563    0.088542    0.097222    0.060657   \n",
              "1     1986-03-14    0.097222    0.102431    0.097222    0.100694    0.062823   \n",
              "2     1986-03-17    0.100694    0.103299    0.100694    0.102431    0.063907   \n",
              "3     1986-03-18    0.102431    0.103299    0.098958    0.099826    0.062281   \n",
              "4     1986-03-19    0.099826    0.100694    0.097222    0.098090    0.061198   \n",
              "...          ...         ...         ...         ...         ...         ...   \n",
              "9340  2023-04-04  287.230011  290.450012  285.670013  287.179993  287.179993   \n",
              "9341  2023-04-05  285.850006  287.149994  282.920013  284.339996  284.339996   \n",
              "9342  2023-04-06  283.209991  292.079987  282.029999  291.600006  291.600006   \n",
              "9343  2023-04-10  289.209991  289.600006  284.709991  289.390015  289.390015   \n",
              "9344  2023-04-11  285.750000  285.869995  282.940002  284.000000  284.000000   \n",
              "\n",
              "          Volume  \n",
              "0     1031788800  \n",
              "1      308160000  \n",
              "2      133171200  \n",
              "3       67766400  \n",
              "4       47894400  \n",
              "...          ...  \n",
              "9340    25824300  \n",
              "9341    22064800  \n",
              "9342    29770300  \n",
              "9343    23079400  \n",
              "9344     6456368  \n",
              "\n",
              "[9345 rows x 7 columns]"
            ]
          },
          "execution_count": 18,
          "metadata": {},
          "output_type": "execute_result"
        }
      ],
      "source": [
        "df = pd.read_csv('MSFT.csv')\n",
        "\n",
        "df"
      ]
    },
    {
      "cell_type": "code",
      "execution_count": 19,
      "metadata": {
        "colab": {
          "base_uri": "https://localhost:8080/",
          "height": 424
        },
        "id": "3I6ju2n83jGq",
        "outputId": "ffbaacb7-5393-4982-8726-a5f79b8a9fdd"
      },
      "outputs": [
        {
          "data": {
            "text/html": [
              "<div>\n",
              "<style scoped>\n",
              "    .dataframe tbody tr th:only-of-type {\n",
              "        vertical-align: middle;\n",
              "    }\n",
              "\n",
              "    .dataframe tbody tr th {\n",
              "        vertical-align: top;\n",
              "    }\n",
              "\n",
              "    .dataframe thead th {\n",
              "        text-align: right;\n",
              "    }\n",
              "</style>\n",
              "<table border=\"1\" class=\"dataframe\">\n",
              "  <thead>\n",
              "    <tr style=\"text-align: right;\">\n",
              "      <th></th>\n",
              "      <th>Date</th>\n",
              "      <th>Close</th>\n",
              "    </tr>\n",
              "  </thead>\n",
              "  <tbody>\n",
              "    <tr>\n",
              "      <th>0</th>\n",
              "      <td>1986-03-13</td>\n",
              "      <td>0.097222</td>\n",
              "    </tr>\n",
              "    <tr>\n",
              "      <th>1</th>\n",
              "      <td>1986-03-14</td>\n",
              "      <td>0.100694</td>\n",
              "    </tr>\n",
              "    <tr>\n",
              "      <th>2</th>\n",
              "      <td>1986-03-17</td>\n",
              "      <td>0.102431</td>\n",
              "    </tr>\n",
              "    <tr>\n",
              "      <th>3</th>\n",
              "      <td>1986-03-18</td>\n",
              "      <td>0.099826</td>\n",
              "    </tr>\n",
              "    <tr>\n",
              "      <th>4</th>\n",
              "      <td>1986-03-19</td>\n",
              "      <td>0.098090</td>\n",
              "    </tr>\n",
              "    <tr>\n",
              "      <th>...</th>\n",
              "      <td>...</td>\n",
              "      <td>...</td>\n",
              "    </tr>\n",
              "    <tr>\n",
              "      <th>9340</th>\n",
              "      <td>2023-04-04</td>\n",
              "      <td>287.179993</td>\n",
              "    </tr>\n",
              "    <tr>\n",
              "      <th>9341</th>\n",
              "      <td>2023-04-05</td>\n",
              "      <td>284.339996</td>\n",
              "    </tr>\n",
              "    <tr>\n",
              "      <th>9342</th>\n",
              "      <td>2023-04-06</td>\n",
              "      <td>291.600006</td>\n",
              "    </tr>\n",
              "    <tr>\n",
              "      <th>9343</th>\n",
              "      <td>2023-04-10</td>\n",
              "      <td>289.390015</td>\n",
              "    </tr>\n",
              "    <tr>\n",
              "      <th>9344</th>\n",
              "      <td>2023-04-11</td>\n",
              "      <td>284.000000</td>\n",
              "    </tr>\n",
              "  </tbody>\n",
              "</table>\n",
              "<p>9345 rows × 2 columns</p>\n",
              "</div>"
            ],
            "text/plain": [
              "            Date       Close\n",
              "0     1986-03-13    0.097222\n",
              "1     1986-03-14    0.100694\n",
              "2     1986-03-17    0.102431\n",
              "3     1986-03-18    0.099826\n",
              "4     1986-03-19    0.098090\n",
              "...          ...         ...\n",
              "9340  2023-04-04  287.179993\n",
              "9341  2023-04-05  284.339996\n",
              "9342  2023-04-06  291.600006\n",
              "9343  2023-04-10  289.390015\n",
              "9344  2023-04-11  284.000000\n",
              "\n",
              "[9345 rows x 2 columns]"
            ]
          },
          "execution_count": 19,
          "metadata": {},
          "output_type": "execute_result"
        }
      ],
      "source": [
        "df = df[['Date', 'Close']]\n",
        "\n",
        "df"
      ]
    },
    {
      "cell_type": "code",
      "execution_count": 20,
      "metadata": {
        "colab": {
          "base_uri": "https://localhost:8080/"
        },
        "id": "fCNhH5qH6Fc3",
        "outputId": "98de4ba4-c1f1-4696-c065-754a0cac0049"
      },
      "outputs": [
        {
          "name": "stderr",
          "output_type": "stream",
          "text": [
            "C:\\Users\\msene\\AppData\\Local\\Temp\\ipykernel_60948\\759878743.py:3: SettingWithCopyWarning: \n",
            "A value is trying to be set on a copy of a slice from a DataFrame.\n",
            "Try using .loc[row_indexer,col_indexer] = value instead\n",
            "\n",
            "See the caveats in the documentation: https://pandas.pydata.org/pandas-docs/stable/user_guide/indexing.html#returning-a-view-versus-a-copy\n",
            "  df['Date'] = pd.to_datetime(df['Date'])\n"
          ]
        }
      ],
      "source": [
        "df['Date']\n",
        "# Convert the date column to datetime\n",
        "df['Date'] = pd.to_datetime(df['Date'])"
      ]
    },
    {
      "cell_type": "code",
      "execution_count": 21,
      "metadata": {
        "colab": {
          "base_uri": "https://localhost:8080/",
          "height": 424
        },
        "id": "fE62iBCl-d_P",
        "outputId": "51fd791c-bda5-4375-be3f-a88efa479805"
      },
      "outputs": [
        {
          "data": {
            "text/html": [
              "<div>\n",
              "<style scoped>\n",
              "    .dataframe tbody tr th:only-of-type {\n",
              "        vertical-align: middle;\n",
              "    }\n",
              "\n",
              "    .dataframe tbody tr th {\n",
              "        vertical-align: top;\n",
              "    }\n",
              "\n",
              "    .dataframe thead th {\n",
              "        text-align: right;\n",
              "    }\n",
              "</style>\n",
              "<table border=\"1\" class=\"dataframe\">\n",
              "  <thead>\n",
              "    <tr style=\"text-align: right;\">\n",
              "      <th></th>\n",
              "      <th>Date</th>\n",
              "      <th>Close</th>\n",
              "    </tr>\n",
              "  </thead>\n",
              "  <tbody>\n",
              "    <tr>\n",
              "      <th>0</th>\n",
              "      <td>1986-03-13</td>\n",
              "      <td>0.097222</td>\n",
              "    </tr>\n",
              "    <tr>\n",
              "      <th>1</th>\n",
              "      <td>1986-03-14</td>\n",
              "      <td>0.100694</td>\n",
              "    </tr>\n",
              "    <tr>\n",
              "      <th>2</th>\n",
              "      <td>1986-03-17</td>\n",
              "      <td>0.102431</td>\n",
              "    </tr>\n",
              "    <tr>\n",
              "      <th>3</th>\n",
              "      <td>1986-03-18</td>\n",
              "      <td>0.099826</td>\n",
              "    </tr>\n",
              "    <tr>\n",
              "      <th>4</th>\n",
              "      <td>1986-03-19</td>\n",
              "      <td>0.098090</td>\n",
              "    </tr>\n",
              "    <tr>\n",
              "      <th>...</th>\n",
              "      <td>...</td>\n",
              "      <td>...</td>\n",
              "    </tr>\n",
              "    <tr>\n",
              "      <th>9340</th>\n",
              "      <td>2023-04-04</td>\n",
              "      <td>287.179993</td>\n",
              "    </tr>\n",
              "    <tr>\n",
              "      <th>9341</th>\n",
              "      <td>2023-04-05</td>\n",
              "      <td>284.339996</td>\n",
              "    </tr>\n",
              "    <tr>\n",
              "      <th>9342</th>\n",
              "      <td>2023-04-06</td>\n",
              "      <td>291.600006</td>\n",
              "    </tr>\n",
              "    <tr>\n",
              "      <th>9343</th>\n",
              "      <td>2023-04-10</td>\n",
              "      <td>289.390015</td>\n",
              "    </tr>\n",
              "    <tr>\n",
              "      <th>9344</th>\n",
              "      <td>2023-04-11</td>\n",
              "      <td>284.000000</td>\n",
              "    </tr>\n",
              "  </tbody>\n",
              "</table>\n",
              "<p>9345 rows × 2 columns</p>\n",
              "</div>"
            ],
            "text/plain": [
              "           Date       Close\n",
              "0    1986-03-13    0.097222\n",
              "1    1986-03-14    0.100694\n",
              "2    1986-03-17    0.102431\n",
              "3    1986-03-18    0.099826\n",
              "4    1986-03-19    0.098090\n",
              "...         ...         ...\n",
              "9340 2023-04-04  287.179993\n",
              "9341 2023-04-05  284.339996\n",
              "9342 2023-04-06  291.600006\n",
              "9343 2023-04-10  289.390015\n",
              "9344 2023-04-11  284.000000\n",
              "\n",
              "[9345 rows x 2 columns]"
            ]
          },
          "execution_count": 21,
          "metadata": {},
          "output_type": "execute_result"
        }
      ],
      "source": [
        "df"
      ]
    },
    {
      "cell_type": "code",
      "execution_count": 22,
      "metadata": {
        "colab": {
          "base_uri": "https://localhost:8080/",
          "height": 455
        },
        "id": "khQN7tf1BJCB",
        "outputId": "09f6deea-48e4-4ed3-975b-fa261c7c8f35"
      },
      "outputs": [
        {
          "data": {
            "text/html": [
              "<div>\n",
              "<style scoped>\n",
              "    .dataframe tbody tr th:only-of-type {\n",
              "        vertical-align: middle;\n",
              "    }\n",
              "\n",
              "    .dataframe tbody tr th {\n",
              "        vertical-align: top;\n",
              "    }\n",
              "\n",
              "    .dataframe thead th {\n",
              "        text-align: right;\n",
              "    }\n",
              "</style>\n",
              "<table border=\"1\" class=\"dataframe\">\n",
              "  <thead>\n",
              "    <tr style=\"text-align: right;\">\n",
              "      <th></th>\n",
              "      <th>Close</th>\n",
              "    </tr>\n",
              "    <tr>\n",
              "      <th>Date</th>\n",
              "      <th></th>\n",
              "    </tr>\n",
              "  </thead>\n",
              "  <tbody>\n",
              "    <tr>\n",
              "      <th>1986-03-13</th>\n",
              "      <td>0.097222</td>\n",
              "    </tr>\n",
              "    <tr>\n",
              "      <th>1986-03-14</th>\n",
              "      <td>0.100694</td>\n",
              "    </tr>\n",
              "    <tr>\n",
              "      <th>1986-03-17</th>\n",
              "      <td>0.102431</td>\n",
              "    </tr>\n",
              "    <tr>\n",
              "      <th>1986-03-18</th>\n",
              "      <td>0.099826</td>\n",
              "    </tr>\n",
              "    <tr>\n",
              "      <th>1986-03-19</th>\n",
              "      <td>0.098090</td>\n",
              "    </tr>\n",
              "    <tr>\n",
              "      <th>...</th>\n",
              "      <td>...</td>\n",
              "    </tr>\n",
              "    <tr>\n",
              "      <th>2023-04-04</th>\n",
              "      <td>287.179993</td>\n",
              "    </tr>\n",
              "    <tr>\n",
              "      <th>2023-04-05</th>\n",
              "      <td>284.339996</td>\n",
              "    </tr>\n",
              "    <tr>\n",
              "      <th>2023-04-06</th>\n",
              "      <td>291.600006</td>\n",
              "    </tr>\n",
              "    <tr>\n",
              "      <th>2023-04-10</th>\n",
              "      <td>289.390015</td>\n",
              "    </tr>\n",
              "    <tr>\n",
              "      <th>2023-04-11</th>\n",
              "      <td>284.000000</td>\n",
              "    </tr>\n",
              "  </tbody>\n",
              "</table>\n",
              "<p>9345 rows × 1 columns</p>\n",
              "</div>"
            ],
            "text/plain": [
              "                 Close\n",
              "Date                  \n",
              "1986-03-13    0.097222\n",
              "1986-03-14    0.100694\n",
              "1986-03-17    0.102431\n",
              "1986-03-18    0.099826\n",
              "1986-03-19    0.098090\n",
              "...                ...\n",
              "2023-04-04  287.179993\n",
              "2023-04-05  284.339996\n",
              "2023-04-06  291.600006\n",
              "2023-04-10  289.390015\n",
              "2023-04-11  284.000000\n",
              "\n",
              "[9345 rows x 1 columns]"
            ]
          },
          "execution_count": 22,
          "metadata": {},
          "output_type": "execute_result"
        }
      ],
      "source": [
        "df.index = df.pop('Date')\n",
        "df"
      ]
    },
    {
      "cell_type": "code",
      "execution_count": 26,
      "metadata": {
        "colab": {
          "base_uri": "https://localhost:8080/",
          "height": 283
        },
        "id": "17OZExfcBWzD",
        "outputId": "d1e6868b-b04e-49b1-c7a1-cf4f705843ff"
      },
      "outputs": [
        {
          "data": {
            "image/png": "[encoded data removed]",
            "text/plain": [
              "<Figure size 640x480 with 1 Axes>"
            ]
          },
          "metadata": {},
          "output_type": "display_data"
        }
      ],
      "source": [
        "\n",
        "plt.plot(df.index, df['Close'])\n",
        "plt.show()"
      ]
    },
    {
      "cell_type": "code",
      "execution_count": 31,
      "metadata": {
        "colab": {
          "base_uri": "https://localhost:8080/",
          "height": 424
        },
        "id": "fsU9d3u0HdYj",
        "outputId": "10e55e21-f752-4d49-d7c2-ad01b39f2441"
      },
      "outputs": [],
      "source": [
        "\n",
        "def df_to_windowed_df(dataframe, first_date_str, last_date_str, n=3):\n",
        "  first_date = pd.to_datetime(first_date_str)\n",
        "  last_date  = pd.to_datetime(last_date_str)\n",
        "\n",
        "  target_date = first_date\n",
        "  \n",
        "  dates = []\n",
        "  X, Y = [], []\n",
        "\n",
        "  last_time = False\n",
        "  while True:\n",
        "    df_subset = dataframe.loc[:target_date].tail(n+1)\n",
        "    \n",
        "    if len(df_subset) != n+1:\n",
        "      print(f'Error: Window of size {n} is too large for date {target_date}')\n",
        "      return\n",
        "\n",
        "    values = df_subset['Close'].to_numpy()\n",
        "    x, y = values[:-1], values[-1]\n",
        "\n",
        "    dates.append(target_date)\n",
        "    X.append(x)\n",
        "    Y.append(y)\n",
        "\n",
        "    next_week = dataframe.loc[target_date:target_date+datetime.timedelta(days=7)]\n",
        "    next_datetime_str = str(next_week.head(2).tail(1).index.values[0])\n",
        "    next_date_str = next_datetime_str.split('T')[0]\n",
        "    year_month_day = next_date_str.split('-')\n",
        "    year, month, day = year_month_day\n",
        "    next_date = datetime.datetime(day=int(day), month=int(month), year=int(year))\n",
        "    \n",
        "    if last_time:\n",
        "      break\n",
        "    \n",
        "    target_date = next_date\n",
        "\n",
        "    if target_date == last_date:\n",
        "      last_time = True\n",
        "    \n",
        "  ret_df = pd.DataFrame({})\n",
        "  ret_df['Target Date'] = dates\n",
        "  \n",
        "  X = np.array(X)\n",
        "  for i in range(0, n):\n",
        "    X[:, i]\n",
        "    ret_df[f'Target-{n-i}'] = X[:, i]\n",
        "  \n",
        "  ret_df['Target'] = Y\n",
        "\n",
        "  return ret_df"
      ]
    },
    {
      "cell_type": "code",
      "execution_count": 35,
      "metadata": {},
      "outputs": [
        {
          "data": {
            "text/html": [
              "<div>\n",
              "<style scoped>\n",
              "    .dataframe tbody tr th:only-of-type {\n",
              "        vertical-align: middle;\n",
              "    }\n",
              "\n",
              "    .dataframe tbody tr th {\n",
              "        vertical-align: top;\n",
              "    }\n",
              "\n",
              "    .dataframe thead th {\n",
              "        text-align: right;\n",
              "    }\n",
              "</style>\n",
              "<table border=\"1\" class=\"dataframe\">\n",
              "  <thead>\n",
              "    <tr style=\"text-align: right;\">\n",
              "      <th></th>\n",
              "      <th>Target Date</th>\n",
              "      <th>Target-3</th>\n",
              "      <th>Target-2</th>\n",
              "      <th>Target-1</th>\n",
              "      <th>Target</th>\n",
              "    </tr>\n",
              "  </thead>\n",
              "  <tbody>\n",
              "    <tr>\n",
              "      <th>0</th>\n",
              "      <td>1986-03-25</td>\n",
              "      <td>0.095486</td>\n",
              "      <td>0.092882</td>\n",
              "      <td>0.090278</td>\n",
              "      <td>0.092014</td>\n",
              "    </tr>\n",
              "    <tr>\n",
              "      <th>1</th>\n",
              "      <td>1986-03-26</td>\n",
              "      <td>0.092882</td>\n",
              "      <td>0.090278</td>\n",
              "      <td>0.092014</td>\n",
              "      <td>0.094618</td>\n",
              "    </tr>\n",
              "    <tr>\n",
              "      <th>2</th>\n",
              "      <td>1986-03-27</td>\n",
              "      <td>0.090278</td>\n",
              "      <td>0.092014</td>\n",
              "      <td>0.094618</td>\n",
              "      <td>0.096354</td>\n",
              "    </tr>\n",
              "    <tr>\n",
              "      <th>3</th>\n",
              "      <td>1986-03-31</td>\n",
              "      <td>0.092014</td>\n",
              "      <td>0.094618</td>\n",
              "      <td>0.096354</td>\n",
              "      <td>0.095486</td>\n",
              "    </tr>\n",
              "    <tr>\n",
              "      <th>4</th>\n",
              "      <td>1986-04-01</td>\n",
              "      <td>0.094618</td>\n",
              "      <td>0.096354</td>\n",
              "      <td>0.095486</td>\n",
              "      <td>0.094618</td>\n",
              "    </tr>\n",
              "    <tr>\n",
              "      <th>...</th>\n",
              "      <td>...</td>\n",
              "      <td>...</td>\n",
              "      <td>...</td>\n",
              "      <td>...</td>\n",
              "      <td>...</td>\n",
              "    </tr>\n",
              "    <tr>\n",
              "      <th>9069</th>\n",
              "      <td>2022-03-17</td>\n",
              "      <td>276.440002</td>\n",
              "      <td>287.149994</td>\n",
              "      <td>294.390015</td>\n",
              "      <td>295.220001</td>\n",
              "    </tr>\n",
              "    <tr>\n",
              "      <th>9070</th>\n",
              "      <td>2022-03-18</td>\n",
              "      <td>287.149994</td>\n",
              "      <td>294.390015</td>\n",
              "      <td>295.220001</td>\n",
              "      <td>300.429993</td>\n",
              "    </tr>\n",
              "    <tr>\n",
              "      <th>9071</th>\n",
              "      <td>2022-03-21</td>\n",
              "      <td>294.390015</td>\n",
              "      <td>295.220001</td>\n",
              "      <td>300.429993</td>\n",
              "      <td>299.160004</td>\n",
              "    </tr>\n",
              "    <tr>\n",
              "      <th>9072</th>\n",
              "      <td>2022-03-22</td>\n",
              "      <td>295.220001</td>\n",
              "      <td>300.429993</td>\n",
              "      <td>299.160004</td>\n",
              "      <td>304.059998</td>\n",
              "    </tr>\n",
              "    <tr>\n",
              "      <th>9073</th>\n",
              "      <td>2022-03-23</td>\n",
              "      <td>300.429993</td>\n",
              "      <td>299.160004</td>\n",
              "      <td>304.059998</td>\n",
              "      <td>299.489990</td>\n",
              "    </tr>\n",
              "  </tbody>\n",
              "</table>\n",
              "<p>9074 rows × 5 columns</p>\n",
              "</div>"
            ],
            "text/plain": [
              "     Target Date    Target-3    Target-2    Target-1      Target\n",
              "0     1986-03-25    0.095486    0.092882    0.090278    0.092014\n",
              "1     1986-03-26    0.092882    0.090278    0.092014    0.094618\n",
              "2     1986-03-27    0.090278    0.092014    0.094618    0.096354\n",
              "3     1986-03-31    0.092014    0.094618    0.096354    0.095486\n",
              "4     1986-04-01    0.094618    0.096354    0.095486    0.094618\n",
              "...          ...         ...         ...         ...         ...\n",
              "9069  2022-03-17  276.440002  287.149994  294.390015  295.220001\n",
              "9070  2022-03-18  287.149994  294.390015  295.220001  300.429993\n",
              "9071  2022-03-21  294.390015  295.220001  300.429993  299.160004\n",
              "9072  2022-03-22  295.220001  300.429993  299.160004  304.059998\n",
              "9073  2022-03-23  300.429993  299.160004  304.059998  299.489990\n",
              "\n",
              "[9074 rows x 5 columns]"
            ]
          },
          "execution_count": 35,
          "metadata": {},
          "output_type": "execute_result"
        }
      ],
      "source": [
        "# Start day second time around: '2021-03-25'\n",
        "windowed_df = df_to_windowed_df(df, \n",
        "                                '1986-03-25', \n",
        "                                '2022-03-23', \n",
        "                                n=3)\n",
        "windowed_df"
      ]
    },
    {
      "cell_type": "code",
      "execution_count": 36,
      "metadata": {
        "colab": {
          "base_uri": "https://localhost:8080/"
        },
        "id": "uD17zIbaIZ6n",
        "outputId": "190e0356-1c59-4bdb-9aaa-002cf15aecd7"
      },
      "outputs": [],
      "source": [
        "def windowed_df_to_date_X_y(windowed_dataframe):\n",
        "  df_as_np = windowed_dataframe.to_numpy()\n",
        "\n",
        "  dates = df_as_np[:, 0]\n",
        "\n",
        "  middle_matrix = df_as_np[:, 1:-1]\n",
        "  X = middle_matrix.reshape((len(dates), middle_matrix.shape[1], 1))\n",
        "\n",
        "  Y = df_as_np[:, -1]\n",
        "\n",
        "  return dates, X.astype(np.float32), Y.astype(np.float32)\n"
      ]
    },
    {
      "cell_type": "code",
      "execution_count": 37,
      "metadata": {},
      "outputs": [
        {
          "data": {
            "text/plain": [
              "((9074,), (9074, 3, 1), (9074,))"
            ]
          },
          "execution_count": 37,
          "metadata": {},
          "output_type": "execute_result"
        }
      ],
      "source": [
        "dates, X, y = windowed_df_to_date_X_y(windowed_df)\n",
        "\n",
        "dates.shape, X.shape, y.shape"
      ]
    },
    {
      "cell_type": "code",
      "execution_count": 38,
      "metadata": {
        "colab": {
          "base_uri": "https://localhost:8080/",
          "height": 283
        },
        "id": "LPHWfwZeMZSS",
        "outputId": "6d7b78be-84c4-4e17-9677-549d55e77ea4"
      },
      "outputs": [
        {
          "data": {
            "text/plain": [
              "<matplotlib.legend.Legend at 0x2eb55497dd0>"
            ]
          },
          "execution_count": 38,
          "metadata": {},
          "output_type": "execute_result"
        },
        {
          "data": {
            "image/png": "[encoded data removed]",
            "text/plain": [
              "<Figure size 640x480 with 1 Axes>"
            ]
          },
          "metadata": {},
          "output_type": "display_data"
        }
      ],
      "source": [
        "q_80 = int(len(dates) * .8)\n",
        "q_90 = int(len(dates) * .9)\n",
        "\n",
        "dates_train, X_train, y_train = dates[:q_80], X[:q_80], y[:q_80]\n",
        "\n",
        "dates_val, X_val, y_val = dates[q_80:q_90], X[q_80:q_90], y[q_80:q_90]\n",
        "dates_test, X_test, y_test = dates[q_90:], X[q_90:], y[q_90:]\n",
        "\n",
        "plt.plot(dates_train, y_train)\n",
        "plt.plot(dates_val, y_val)\n",
        "plt.plot(dates_test, y_test)\n",
        "\n",
        "plt.legend(['Train', 'Validation', 'Test'])"
      ]
    },
    {
      "attachments": {},
      "cell_type": "markdown",
      "metadata": {},
      "source": [
        "### MODEL TRAINING"
      ]
    },
    {
      "cell_type": "code",
      "execution_count": 39,
      "metadata": {
        "colab": {
          "base_uri": "https://localhost:8080/"
        },
        "id": "PGiLbQIYOawE",
        "outputId": "bcb769d6-d4c5-4522-e576-cd89ff64a067"
      },
      "outputs": [
        {
          "name": "stdout",
          "output_type": "stream",
          "text": [
            "Epoch 1/100\n",
            "227/227 [==============================] - 2s 3ms/step - loss: 96.9641 - mean_absolute_error: 4.4255 - val_loss: 502.2791 - val_mean_absolute_error: 14.9702\n",
            "Epoch 2/100\n",
            "227/227 [==============================] - 0s 1ms/step - loss: 0.3551 - mean_absolute_error: 0.3280 - val_loss: 383.5300 - val_mean_absolute_error: 12.2332\n",
            "Epoch 3/100\n",
            "227/227 [==============================] - 0s 2ms/step - loss: 0.3294 - mean_absolute_error: 0.3360 - val_loss: 345.4480 - val_mean_absolute_error: 11.3090\n",
            "Epoch 4/100\n",
            "227/227 [==============================] - 0s 1ms/step - loss: 0.3291 - mean_absolute_error: 0.3357 - val_loss: 324.9471 - val_mean_absolute_error: 10.8690\n",
            "Epoch 5/100\n",
            "227/227 [==============================] - 0s 1ms/step - loss: 0.3195 - mean_absolute_error: 0.3321 - val_loss: 310.5079 - val_mean_absolute_error: 10.4792\n",
            "Epoch 6/100\n",
            "227/227 [==============================] - 0s 1ms/step - loss: 0.3128 - mean_absolute_error: 0.3248 - val_loss: 301.1182 - val_mean_absolute_error: 10.2719\n",
            "Epoch 7/100\n",
            "227/227 [==============================] - 0s 1ms/step - loss: 0.3272 - mean_absolute_error: 0.3377 - val_loss: 295.1862 - val_mean_absolute_error: 10.0878\n",
            "Epoch 8/100\n",
            "227/227 [==============================] - 0s 1ms/step - loss: 0.3064 - mean_absolute_error: 0.3235 - val_loss: 289.0056 - val_mean_absolute_error: 10.0161\n",
            "Epoch 9/100\n",
            "227/227 [==============================] - 0s 1ms/step - loss: 0.3171 - mean_absolute_error: 0.3301 - val_loss: 279.2347 - val_mean_absolute_error: 9.6858\n",
            "Epoch 10/100\n",
            "227/227 [==============================] - 0s 1ms/step - loss: 0.3202 - mean_absolute_error: 0.3369 - val_loss: 271.5146 - val_mean_absolute_error: 9.6055\n",
            "Epoch 11/100\n",
            "227/227 [==============================] - 0s 1ms/step - loss: 0.3138 - mean_absolute_error: 0.3283 - val_loss: 270.9633 - val_mean_absolute_error: 9.6413\n",
            "Epoch 12/100\n",
            "227/227 [==============================] - 0s 1ms/step - loss: 0.3279 - mean_absolute_error: 0.3410 - val_loss: 279.8615 - val_mean_absolute_error: 9.7786\n",
            "Epoch 13/100\n",
            "227/227 [==============================] - 0s 1ms/step - loss: 0.3141 - mean_absolute_error: 0.3293 - val_loss: 271.0092 - val_mean_absolute_error: 9.6958\n",
            "Epoch 14/100\n",
            "227/227 [==============================] - 0s 1ms/step - loss: 0.3016 - mean_absolute_error: 0.3231 - val_loss: 270.1942 - val_mean_absolute_error: 9.4966\n",
            "Epoch 15/100\n",
            "227/227 [==============================] - 0s 1ms/step - loss: 0.2937 - mean_absolute_error: 0.3207 - val_loss: 274.4058 - val_mean_absolute_error: 10.1805\n",
            "Epoch 16/100\n",
            "227/227 [==============================] - 0s 2ms/step - loss: 0.3257 - mean_absolute_error: 0.3399 - val_loss: 262.6321 - val_mean_absolute_error: 9.5216\n",
            "Epoch 17/100\n",
            "227/227 [==============================] - 0s 1ms/step - loss: 0.3018 - mean_absolute_error: 0.3186 - val_loss: 260.7143 - val_mean_absolute_error: 9.3553\n",
            "Epoch 18/100\n",
            "227/227 [==============================] - 0s 1ms/step - loss: 0.2987 - mean_absolute_error: 0.3222 - val_loss: 259.8747 - val_mean_absolute_error: 9.2579\n",
            "Epoch 19/100\n",
            "227/227 [==============================] - 0s 1ms/step - loss: 0.3005 - mean_absolute_error: 0.3250 - val_loss: 266.0213 - val_mean_absolute_error: 9.7430\n",
            "Epoch 20/100\n",
            "227/227 [==============================] - 0s 1ms/step - loss: 0.3066 - mean_absolute_error: 0.3216 - val_loss: 251.7779 - val_mean_absolute_error: 9.1293\n",
            "Epoch 21/100\n",
            "227/227 [==============================] - 0s 1ms/step - loss: 0.3267 - mean_absolute_error: 0.3378 - val_loss: 246.3346 - val_mean_absolute_error: 8.9466\n",
            "Epoch 22/100\n",
            "227/227 [==============================] - 0s 1ms/step - loss: 0.3359 - mean_absolute_error: 0.3447 - val_loss: 241.5620 - val_mean_absolute_error: 8.8233\n",
            "Epoch 23/100\n",
            "227/227 [==============================] - 0s 1ms/step - loss: 0.3092 - mean_absolute_error: 0.3265 - val_loss: 263.5377 - val_mean_absolute_error: 10.2132\n",
            "Epoch 24/100\n",
            "227/227 [==============================] - 0s 1ms/step - loss: 0.3232 - mean_absolute_error: 0.3375 - val_loss: 248.1771 - val_mean_absolute_error: 9.1331\n",
            "Epoch 25/100\n",
            "227/227 [==============================] - 0s 1ms/step - loss: 0.2956 - mean_absolute_error: 0.3172 - val_loss: 245.5699 - val_mean_absolute_error: 9.1297\n",
            "Epoch 26/100\n",
            "227/227 [==============================] - 0s 1ms/step - loss: 0.3053 - mean_absolute_error: 0.3244 - val_loss: 237.3307 - val_mean_absolute_error: 8.8204\n",
            "Epoch 27/100\n",
            "227/227 [==============================] - 0s 1ms/step - loss: 0.3078 - mean_absolute_error: 0.3262 - val_loss: 238.5471 - val_mean_absolute_error: 8.7962\n",
            "Epoch 28/100\n",
            "227/227 [==============================] - 0s 1ms/step - loss: 0.2970 - mean_absolute_error: 0.3216 - val_loss: 239.5848 - val_mean_absolute_error: 8.9433\n",
            "Epoch 29/100\n",
            "227/227 [==============================] - 0s 1ms/step - loss: 0.2982 - mean_absolute_error: 0.3243 - val_loss: 242.5246 - val_mean_absolute_error: 9.0629\n",
            "Epoch 30/100\n",
            "227/227 [==============================] - 0s 1ms/step - loss: 0.3083 - mean_absolute_error: 0.3318 - val_loss: 227.3056 - val_mean_absolute_error: 8.5536\n",
            "Epoch 31/100\n",
            "227/227 [==============================] - 0s 1ms/step - loss: 0.3191 - mean_absolute_error: 0.3376 - val_loss: 232.7382 - val_mean_absolute_error: 8.7278\n",
            "Epoch 32/100\n",
            "227/227 [==============================] - 0s 1ms/step - loss: 0.3205 - mean_absolute_error: 0.3396 - val_loss: 234.7910 - val_mean_absolute_error: 8.7894\n",
            "Epoch 33/100\n",
            "227/227 [==============================] - 0s 1ms/step - loss: 0.3240 - mean_absolute_error: 0.3467 - val_loss: 238.6839 - val_mean_absolute_error: 9.1250\n",
            "Epoch 34/100\n",
            "227/227 [==============================] - 0s 1ms/step - loss: 0.3009 - mean_absolute_error: 0.3233 - val_loss: 250.3209 - val_mean_absolute_error: 9.6557\n",
            "Epoch 35/100\n",
            "227/227 [==============================] - 0s 1ms/step - loss: 0.2979 - mean_absolute_error: 0.3170 - val_loss: 231.2971 - val_mean_absolute_error: 8.6822\n",
            "Epoch 36/100\n",
            "227/227 [==============================] - 0s 1ms/step - loss: 0.3217 - mean_absolute_error: 0.3400 - val_loss: 227.6321 - val_mean_absolute_error: 8.5817\n",
            "Epoch 37/100\n",
            "227/227 [==============================] - 0s 1ms/step - loss: 0.3339 - mean_absolute_error: 0.3467 - val_loss: 242.9774 - val_mean_absolute_error: 9.2631\n",
            "Epoch 38/100\n",
            "227/227 [==============================] - 0s 2ms/step - loss: 0.2896 - mean_absolute_error: 0.3168 - val_loss: 247.8342 - val_mean_absolute_error: 9.5586\n",
            "Epoch 39/100\n",
            "227/227 [==============================] - 0s 2ms/step - loss: 0.2959 - mean_absolute_error: 0.3244 - val_loss: 241.0637 - val_mean_absolute_error: 9.2593\n",
            "Epoch 40/100\n",
            "227/227 [==============================] - 0s 1ms/step - loss: 0.3036 - mean_absolute_error: 0.3247 - val_loss: 232.6378 - val_mean_absolute_error: 8.9360\n",
            "Epoch 41/100\n",
            "227/227 [==============================] - 0s 1ms/step - loss: 0.2880 - mean_absolute_error: 0.3123 - val_loss: 227.3699 - val_mean_absolute_error: 8.6921\n",
            "Epoch 42/100\n",
            "227/227 [==============================] - 0s 1ms/step - loss: 0.3179 - mean_absolute_error: 0.3351 - val_loss: 238.5607 - val_mean_absolute_error: 9.0977\n",
            "Epoch 43/100\n",
            "227/227 [==============================] - 0s 1ms/step - loss: 0.3132 - mean_absolute_error: 0.3316 - val_loss: 225.5395 - val_mean_absolute_error: 8.6679\n",
            "Epoch 44/100\n",
            "227/227 [==============================] - 0s 1ms/step - loss: 0.3222 - mean_absolute_error: 0.3401 - val_loss: 235.9264 - val_mean_absolute_error: 9.0245\n",
            "Epoch 45/100\n",
            "227/227 [==============================] - 0s 1ms/step - loss: 0.3008 - mean_absolute_error: 0.3203 - val_loss: 223.4047 - val_mean_absolute_error: 8.5500\n",
            "Epoch 46/100\n",
            "227/227 [==============================] - 0s 1ms/step - loss: 0.3070 - mean_absolute_error: 0.3244 - val_loss: 230.9620 - val_mean_absolute_error: 9.0791\n",
            "Epoch 47/100\n",
            "227/227 [==============================] - 0s 1ms/step - loss: 0.3282 - mean_absolute_error: 0.3402 - val_loss: 247.4835 - val_mean_absolute_error: 9.8339\n",
            "Epoch 48/100\n",
            "227/227 [==============================] - 0s 1ms/step - loss: 0.2859 - mean_absolute_error: 0.3111 - val_loss: 221.4270 - val_mean_absolute_error: 8.5301\n",
            "Epoch 49/100\n",
            "227/227 [==============================] - 0s 1ms/step - loss: 0.2980 - mean_absolute_error: 0.3190 - val_loss: 220.0295 - val_mean_absolute_error: 8.3780\n",
            "Epoch 50/100\n",
            "227/227 [==============================] - 0s 1ms/step - loss: 0.3078 - mean_absolute_error: 0.3287 - val_loss: 223.2385 - val_mean_absolute_error: 8.6892\n",
            "Epoch 51/100\n",
            "227/227 [==============================] - 0s 1ms/step - loss: 0.3010 - mean_absolute_error: 0.3242 - val_loss: 219.4391 - val_mean_absolute_error: 8.4386\n",
            "Epoch 52/100\n",
            "227/227 [==============================] - 0s 1ms/step - loss: 0.3022 - mean_absolute_error: 0.3227 - val_loss: 221.5960 - val_mean_absolute_error: 8.4626\n",
            "Epoch 53/100\n",
            "227/227 [==============================] - 0s 1ms/step - loss: 0.2933 - mean_absolute_error: 0.3214 - val_loss: 216.7032 - val_mean_absolute_error: 8.3247\n",
            "Epoch 54/100\n",
            "227/227 [==============================] - 0s 1ms/step - loss: 0.3038 - mean_absolute_error: 0.3231 - val_loss: 220.9525 - val_mean_absolute_error: 8.5954\n",
            "Epoch 55/100\n",
            "227/227 [==============================] - 0s 1ms/step - loss: 0.2978 - mean_absolute_error: 0.3243 - val_loss: 229.5960 - val_mean_absolute_error: 8.9611\n",
            "Epoch 56/100\n",
            "227/227 [==============================] - 0s 1ms/step - loss: 0.2853 - mean_absolute_error: 0.3142 - val_loss: 210.9936 - val_mean_absolute_error: 8.3048\n",
            "Epoch 57/100\n",
            "227/227 [==============================] - 0s 1ms/step - loss: 0.3075 - mean_absolute_error: 0.3304 - val_loss: 207.3395 - val_mean_absolute_error: 8.0464\n",
            "Epoch 58/100\n",
            "227/227 [==============================] - 0s 1ms/step - loss: 0.2837 - mean_absolute_error: 0.3101 - val_loss: 226.8847 - val_mean_absolute_error: 8.6778\n",
            "Epoch 59/100\n",
            "227/227 [==============================] - 0s 1ms/step - loss: 0.2974 - mean_absolute_error: 0.3193 - val_loss: 223.2906 - val_mean_absolute_error: 8.7346\n",
            "Epoch 60/100\n",
            "227/227 [==============================] - 0s 1ms/step - loss: 0.2917 - mean_absolute_error: 0.3149 - val_loss: 228.0570 - val_mean_absolute_error: 8.8690\n",
            "Epoch 61/100\n",
            "227/227 [==============================] - 0s 1ms/step - loss: 0.2828 - mean_absolute_error: 0.3080 - val_loss: 200.1249 - val_mean_absolute_error: 7.8589\n",
            "Epoch 62/100\n",
            "227/227 [==============================] - 0s 1ms/step - loss: 0.2906 - mean_absolute_error: 0.3161 - val_loss: 225.5259 - val_mean_absolute_error: 8.8388\n",
            "Epoch 63/100\n",
            "227/227 [==============================] - 0s 1ms/step - loss: 0.2854 - mean_absolute_error: 0.3182 - val_loss: 199.9318 - val_mean_absolute_error: 7.9247\n",
            "Epoch 64/100\n",
            "227/227 [==============================] - 0s 1ms/step - loss: 0.2870 - mean_absolute_error: 0.3102 - val_loss: 216.0004 - val_mean_absolute_error: 8.4694\n",
            "Epoch 65/100\n",
            "227/227 [==============================] - 0s 1ms/step - loss: 0.2772 - mean_absolute_error: 0.3037 - val_loss: 215.3513 - val_mean_absolute_error: 8.3856\n",
            "Epoch 66/100\n",
            "227/227 [==============================] - 0s 1ms/step - loss: 0.2886 - mean_absolute_error: 0.3127 - val_loss: 196.2487 - val_mean_absolute_error: 7.8690\n",
            "Epoch 67/100\n",
            "227/227 [==============================] - 0s 1ms/step - loss: 0.3033 - mean_absolute_error: 0.3263 - val_loss: 231.1828 - val_mean_absolute_error: 9.2205\n",
            "Epoch 68/100\n",
            "227/227 [==============================] - 0s 2ms/step - loss: 0.2915 - mean_absolute_error: 0.3140 - val_loss: 203.3699 - val_mean_absolute_error: 8.0602\n",
            "Epoch 69/100\n",
            "227/227 [==============================] - 0s 1ms/step - loss: 0.3051 - mean_absolute_error: 0.3247 - val_loss: 206.4329 - val_mean_absolute_error: 8.1493\n",
            "Epoch 70/100\n",
            "227/227 [==============================] - 0s 1ms/step - loss: 0.3171 - mean_absolute_error: 0.3301 - val_loss: 210.6922 - val_mean_absolute_error: 8.2408\n",
            "Epoch 71/100\n",
            "227/227 [==============================] - 0s 1ms/step - loss: 0.2924 - mean_absolute_error: 0.3136 - val_loss: 210.0101 - val_mean_absolute_error: 8.2058\n",
            "Epoch 72/100\n",
            "227/227 [==============================] - 0s 1ms/step - loss: 0.2835 - mean_absolute_error: 0.3079 - val_loss: 198.8326 - val_mean_absolute_error: 7.9752\n",
            "Epoch 73/100\n",
            "227/227 [==============================] - 0s 1ms/step - loss: 0.3022 - mean_absolute_error: 0.3238 - val_loss: 201.4349 - val_mean_absolute_error: 7.9512\n",
            "Epoch 74/100\n",
            "227/227 [==============================] - 0s 1ms/step - loss: 0.2977 - mean_absolute_error: 0.3193 - val_loss: 203.9122 - val_mean_absolute_error: 8.0323\n",
            "Epoch 75/100\n",
            "227/227 [==============================] - 0s 1ms/step - loss: 0.2932 - mean_absolute_error: 0.3187 - val_loss: 206.4319 - val_mean_absolute_error: 8.0429\n",
            "Epoch 76/100\n",
            "227/227 [==============================] - 0s 1ms/step - loss: 0.3183 - mean_absolute_error: 0.3348 - val_loss: 222.9216 - val_mean_absolute_error: 8.7594\n",
            "Epoch 77/100\n",
            "227/227 [==============================] - 0s 1ms/step - loss: 0.2988 - mean_absolute_error: 0.3181 - val_loss: 184.5992 - val_mean_absolute_error: 7.4958\n",
            "Epoch 78/100\n",
            "227/227 [==============================] - 0s 1ms/step - loss: 0.2975 - mean_absolute_error: 0.3185 - val_loss: 203.2301 - val_mean_absolute_error: 7.9819\n",
            "Epoch 79/100\n",
            "227/227 [==============================] - 0s 1ms/step - loss: 0.2856 - mean_absolute_error: 0.3133 - val_loss: 212.6365 - val_mean_absolute_error: 8.3062\n",
            "Epoch 80/100\n",
            "227/227 [==============================] - 0s 1ms/step - loss: 0.2958 - mean_absolute_error: 0.3170 - val_loss: 201.6251 - val_mean_absolute_error: 8.0166\n",
            "Epoch 81/100\n",
            "227/227 [==============================] - 0s 1ms/step - loss: 0.3138 - mean_absolute_error: 0.3302 - val_loss: 212.0717 - val_mean_absolute_error: 8.3385\n",
            "Epoch 82/100\n",
            "227/227 [==============================] - 0s 1ms/step - loss: 0.2876 - mean_absolute_error: 0.3112 - val_loss: 212.1484 - val_mean_absolute_error: 8.3889\n",
            "Epoch 83/100\n",
            "227/227 [==============================] - 0s 1ms/step - loss: 0.3044 - mean_absolute_error: 0.3232 - val_loss: 218.8270 - val_mean_absolute_error: 9.0244\n",
            "Epoch 84/100\n",
            "227/227 [==============================] - 0s 1ms/step - loss: 0.3292 - mean_absolute_error: 0.3417 - val_loss: 213.9843 - val_mean_absolute_error: 8.6584\n",
            "Epoch 85/100\n",
            "227/227 [==============================] - 0s 1ms/step - loss: 0.2937 - mean_absolute_error: 0.3196 - val_loss: 218.1937 - val_mean_absolute_error: 8.5766\n",
            "Epoch 86/100\n",
            "227/227 [==============================] - 0s 1ms/step - loss: 0.2968 - mean_absolute_error: 0.3159 - val_loss: 207.8924 - val_mean_absolute_error: 8.2044\n",
            "Epoch 87/100\n",
            "227/227 [==============================] - 0s 1ms/step - loss: 0.2789 - mean_absolute_error: 0.3034 - val_loss: 205.3705 - val_mean_absolute_error: 8.1363\n",
            "Epoch 88/100\n",
            "227/227 [==============================] - 0s 1ms/step - loss: 0.3019 - mean_absolute_error: 0.3231 - val_loss: 216.1707 - val_mean_absolute_error: 8.5096\n",
            "Epoch 89/100\n",
            "227/227 [==============================] - 0s 1ms/step - loss: 0.2862 - mean_absolute_error: 0.3094 - val_loss: 191.0367 - val_mean_absolute_error: 7.6887\n",
            "Epoch 90/100\n",
            "227/227 [==============================] - 0s 1ms/step - loss: 0.3042 - mean_absolute_error: 0.3245 - val_loss: 195.1246 - val_mean_absolute_error: 7.9407\n",
            "Epoch 91/100\n",
            "227/227 [==============================] - 0s 1ms/step - loss: 0.2827 - mean_absolute_error: 0.3054 - val_loss: 191.0505 - val_mean_absolute_error: 7.7244\n",
            "Epoch 92/100\n",
            "227/227 [==============================] - 0s 1ms/step - loss: 0.2876 - mean_absolute_error: 0.3095 - val_loss: 210.8978 - val_mean_absolute_error: 8.5107\n",
            "Epoch 93/100\n",
            "227/227 [==============================] - 0s 1ms/step - loss: 0.2805 - mean_absolute_error: 0.3121 - val_loss: 204.7091 - val_mean_absolute_error: 8.1157\n",
            "Epoch 94/100\n",
            "227/227 [==============================] - 0s 1ms/step - loss: 0.2905 - mean_absolute_error: 0.3162 - val_loss: 213.9825 - val_mean_absolute_error: 8.3991\n",
            "Epoch 95/100\n",
            "227/227 [==============================] - 0s 1ms/step - loss: 0.2909 - mean_absolute_error: 0.3127 - val_loss: 203.1886 - val_mean_absolute_error: 8.0440\n",
            "Epoch 96/100\n",
            "227/227 [==============================] - 0s 1ms/step - loss: 0.3067 - mean_absolute_error: 0.3290 - val_loss: 211.0725 - val_mean_absolute_error: 8.4157\n",
            "Epoch 97/100\n",
            "227/227 [==============================] - 0s 1ms/step - loss: 0.2880 - mean_absolute_error: 0.3106 - val_loss: 198.0513 - val_mean_absolute_error: 7.8795\n",
            "Epoch 98/100\n",
            "227/227 [==============================] - 0s 1ms/step - loss: 0.2835 - mean_absolute_error: 0.3079 - val_loss: 186.8219 - val_mean_absolute_error: 7.5800\n",
            "Epoch 99/100\n",
            "227/227 [==============================] - 0s 1ms/step - loss: 0.2810 - mean_absolute_error: 0.3059 - val_loss: 200.8752 - val_mean_absolute_error: 7.9804\n",
            "Epoch 100/100\n",
            "227/227 [==============================] - 0s 1ms/step - loss: 0.2843 - mean_absolute_error: 0.3108 - val_loss: 196.3622 - val_mean_absolute_error: 7.8758\n"
          ]
        },
        {
          "data": {
            "text/plain": [
              "<keras.callbacks.History at 0x2eb034d3dd0>"
            ]
          },
          "execution_count": 39,
          "metadata": {},
          "output_type": "execute_result"
        }
      ],
      "source": [
        "model = Sequential([layers.Input((3, 1)),\n",
        "                    layers.LSTM(64),\n",
        "                    layers.Dense(32, activation='relu'),\n",
        "                    layers.Dense(32, activation='relu'),\n",
        "                    layers.Dense(1)])\n",
        "\n",
        "model.compile(loss='mse', \n",
        "              optimizer=Adam(learning_rate=0.001),\n",
        "              metrics=['mean_absolute_error'])\n",
        "\n",
        "model.fit(X_train, y_train, validation_data=(X_val, y_val), epochs=100)"
      ]
    },
    {
      "cell_type": "code",
      "execution_count": 40,
      "metadata": {
        "colab": {
          "base_uri": "https://localhost:8080/",
          "height": 283
        },
        "id": "gG8eOTzEVl_X",
        "outputId": "93b02019-ae45-4c66-b604-835458210dfb"
      },
      "outputs": [
        {
          "name": "stdout",
          "output_type": "stream",
          "text": [
            "227/227 [==============================] - 0s 612us/step\n"
          ]
        },
        {
          "data": {
            "text/plain": [
              "<matplotlib.legend.Legend at 0x2eb034dc950>"
            ]
          },
          "execution_count": 40,
          "metadata": {},
          "output_type": "execute_result"
        },
        {
          "data": {
            "image/png": "[encoded data removed]",
            "text/plain": [
              "<Figure size 640x480 with 1 Axes>"
            ]
          },
          "metadata": {},
          "output_type": "display_data"
        }
      ],
      "source": [
        "train_predictions = model.predict(X_train).flatten()\n",
        "\n",
        "plt.plot(dates_train, train_predictions)\n",
        "plt.plot(dates_train, y_train)\n",
        "plt.legend(['Training Predictions', 'Training Observations'])"
      ]
    },
    {
      "cell_type": "code",
      "execution_count": 41,
      "metadata": {
        "colab": {
          "base_uri": "https://localhost:8080/",
          "height": 283
        },
        "id": "UrRaAUbnWBhE",
        "outputId": "ddb80173-dfd5-485d-e1fd-ab643b7b6433"
      },
      "outputs": [
        {
          "name": "stdout",
          "output_type": "stream",
          "text": [
            "29/29 [==============================] - 0s 1ms/step\n"
          ]
        },
        {
          "data": {
            "text/plain": [
              "<matplotlib.legend.Legend at 0x2eb03546250>"
            ]
          },
          "execution_count": 41,
          "metadata": {},
          "output_type": "execute_result"
        },
        {
          "data": {
            "image/png": "[encoded data removed]",
            "text/plain": [
              "<Figure size 640x480 with 1 Axes>"
            ]
          },
          "metadata": {},
          "output_type": "display_data"
        }
      ],
      "source": [
        "val_predictions = model.predict(X_val).flatten()\n",
        "\n",
        "plt.plot(dates_val, val_predictions)\n",
        "plt.plot(dates_val, y_val)\n",
        "plt.legend(['Validation Predictions', 'Validation Observations'])"
      ]
    },
    {
      "cell_type": "code",
      "execution_count": 42,
      "metadata": {
        "colab": {
          "base_uri": "https://localhost:8080/",
          "height": 284
        },
        "id": "wF5sDSxVWLFd",
        "outputId": "cf54dd02-18b9-4666-8cd0-c8f2320e80b9"
      },
      "outputs": [
        {
          "name": "stdout",
          "output_type": "stream",
          "text": [
            "29/29 [==============================] - 0s 674us/step\n"
          ]
        },
        {
          "data": {
            "text/plain": [
              "<matplotlib.legend.Legend at 0x2eb046e3a50>"
            ]
          },
          "execution_count": 42,
          "metadata": {},
          "output_type": "execute_result"
        },
        {
          "data": {
            "image/png": "[encoded data removed]",
            "text/plain": [
              "<Figure size 640x480 with 1 Axes>"
            ]
          },
          "metadata": {},
          "output_type": "display_data"
        }
      ],
      "source": [
        "test_predictions = model.predict(X_test).flatten()\n",
        "\n",
        "plt.plot(dates_test, test_predictions)\n",
        "plt.plot(dates_test, y_test)\n",
        "plt.legend(['Testing Predictions', 'Testing Observations'])"
      ]
    },
    {
      "cell_type": "code",
      "execution_count": 43,
      "metadata": {
        "colab": {
          "base_uri": "https://localhost:8080/",
          "height": 283
        },
        "id": "8b-JsTvEWfAm",
        "outputId": "169e03e9-020b-4062-fc23-6d1bc37792a3"
      },
      "outputs": [
        {
          "data": {
            "text/plain": [
              "<matplotlib.legend.Legend at 0x2eb0916c610>"
            ]
          },
          "execution_count": 43,
          "metadata": {},
          "output_type": "execute_result"
        },
        {
          "data": {
            "image/png": "[encoded data removed]",
            "text/plain": [
              "<Figure size 640x480 with 1 Axes>"
            ]
          },
          "metadata": {},
          "output_type": "display_data"
        }
      ],
      "source": [
        "plt.plot(dates_train, train_predictions)\n",
        "plt.plot(dates_train, y_train)\n",
        "plt.plot(dates_val, val_predictions)\n",
        "plt.plot(dates_val, y_val)\n",
        "plt.plot(dates_test, test_predictions)\n",
        "plt.plot(dates_test, y_test)\n",
        "plt.legend(['Training Predictions', \n",
        "            'Training Observations',\n",
        "            'Validation Predictions', \n",
        "            'Validation Observations',\n",
        "            'Testing Predictions', \n",
        "            'Testing Observations'])"
      ]
    },
    {
      "cell_type": "code",
      "execution_count": null,
      "metadata": {
        "id": "qb0ryudqWwkf"
      },
      "outputs": [],
      "source": [
        "recursive_predictions = []\n",
        "recursive_dates = np.concatenate([dates_val, dates_test])\n",
        "\n",
        "for target_date in recursive_dates:\n",
        "  last_window = deepcopy(X_train[-1])\n",
        "  next_prediction = model.predict(np.array([last_window])).flatten()\n",
        "  recursive_predictions.append(next_prediction)\n",
        "  last_window[-1] = next_prediction"
      ]
    },
    {
      "cell_type": "code",
      "execution_count": null,
      "metadata": {
        "colab": {
          "base_uri": "https://localhost:8080/",
          "height": 283
        },
        "id": "6BEMkYmtbwkg",
        "outputId": "60ae2fad-f47c-415e-f72f-df6629d270ec"
      },
      "outputs": [],
      "source": [
        "plt.plot(dates_train, train_predictions)\n",
        "plt.plot(dates_train, y_train)\n",
        "plt.plot(dates_val, val_predictions)\n",
        "plt.plot(dates_val, y_val)\n",
        "plt.plot(dates_test, test_predictions)\n",
        "plt.plot(dates_test, y_test)\n",
        "plt.plot(recursive_dates, recursive_predictions)\n",
        "plt.legend(['Training Predictions', \n",
        "            'Training Observations',\n",
        "            'Validation Predictions', \n",
        "            'Validation Observations',\n",
        "            'Testing Predictions', \n",
        "            'Testing Observations',\n",
        "            'Recursive Predictions'])"
      ]
    },
    {
      "cell_type": "code",
      "execution_count": null,
      "metadata": {
        "id": "zhWT0Pd-b4ab"
      },
      "outputs": [],
      "source": []
    }
  ],
  "metadata": {
    "colab": {
      "provenance": []
    },
    "kernelspec": {
      "display_name": "Python 3",
      "name": "python3"
    },
    "language_info": {
      "codemirror_mode": {
        "name": "ipython",
        "version": 3
      },
      "file_extension": ".py",
      "mimetype": "text/x-python",
      "name": "python",
      "nbconvert_exporter": "python",
      "pygments_lexer": "ipython3",
      "version": "3.11.2"
    }
  },
  "nbformat": 4,
  "nbformat_minor": 0
}
